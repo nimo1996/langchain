{
 "cells": [
  {
   "cell_type": "code",
   "execution_count": 3,
   "metadata": {},
   "outputs": [
    {
     "data": {
      "text/plain": [
       "'4'"
      ]
     },
     "execution_count": 3,
     "metadata": {},
     "output_type": "execute_result"
    }
   ],
   "source": [
    "from langchain.llms.fake import FakeListLLM\n",
    "from langchain.agents import load_tools\n",
    "from langchain.agents import initialize_agent\n",
    "from langchain.agents import AgentType\n",
    "\n",
    "tools = load_tools([\"python_repl\"])\n",
    "responses = [\"Action: Python_REPL\\nAction Input: print(2 + 2)\", \"Final Answer: 4\"]\n",
    "llm = FakeListLLM(responses=responses)\n",
    "\n",
    "agent = initialize_agent(tools, llm, agent=AgentType.ZERO_SHOT_REACT_DESCRIPTION, verrbose=True)\n",
    "agent.run(\"whats 2 + 2\")"
   ]
  },
  {
   "cell_type": "code",
   "execution_count": 3,
   "metadata": {},
   "outputs": [
    {
     "ename": "ValueError",
     "evalue": "Got unknown tool python_repl",
     "output_type": "error",
     "traceback": [
      "\u001b[0;31m---------------------------------------------------------------------------\u001b[0m",
      "\u001b[0;31mValueError\u001b[0m                                Traceback (most recent call last)",
      "Cell \u001b[0;32mIn[3], line 9\u001b[0m\n\u001b[1;32m      5\u001b[0m \u001b[38;5;28;01mfrom\u001b[39;00m \u001b[38;5;21;01mlangchain\u001b[39;00m\u001b[38;5;21;01m.\u001b[39;00m\u001b[38;5;21;01mllms\u001b[39;00m \u001b[38;5;28;01mimport\u001b[39;00m OpenAI\n\u001b[1;32m      7\u001b[0m set_environment()\n\u001b[0;32m----> 9\u001b[0m tools \u001b[38;5;241m=\u001b[39m \u001b[43mload_tools\u001b[49m\u001b[43m(\u001b[49m\u001b[43m[\u001b[49m\u001b[38;5;124;43m\"\u001b[39;49m\u001b[38;5;124;43mpython_repl\u001b[39;49m\u001b[38;5;124;43m\"\u001b[39;49m\u001b[43m]\u001b[49m\u001b[43m)\u001b[49m\n\u001b[1;32m     10\u001b[0m llm \u001b[38;5;241m=\u001b[39m OpenAI(temperature\u001b[38;5;241m=\u001b[39m\u001b[38;5;241m0.\u001b[39m, model\u001b[38;5;241m=\u001b[39m\u001b[38;5;124m\"\u001b[39m\u001b[38;5;124mgpt-3.5-turbo-instruct\u001b[39m\u001b[38;5;124m\"\u001b[39m)\n\u001b[1;32m     12\u001b[0m agent \u001b[38;5;241m=\u001b[39m initialize_agent(\n\u001b[1;32m     13\u001b[0m     tools, llm, agent\u001b[38;5;241m=\u001b[39mAgentType\u001b[38;5;241m.\u001b[39mZERO_SHOT_REACT_DESCRIPTION, verbose\u001b[38;5;241m=\u001b[39m\u001b[38;5;28;01mTrue\u001b[39;00m\n\u001b[1;32m     14\u001b[0m )\n",
      "File \u001b[0;32m/opt/homebrew/Caskroom/miniforge/base/envs/langchain/lib/python3.10/site-packages/langchain_community/agent_toolkits/load_tools.py:729\u001b[0m, in \u001b[0;36mload_tools\u001b[0;34m(tool_names, llm, callbacks, allow_dangerous_tools, **kwargs)\u001b[0m\n\u001b[1;32m    727\u001b[0m         tools\u001b[38;5;241m.\u001b[39mappend(tool)\n\u001b[1;32m    728\u001b[0m     \u001b[38;5;28;01melse\u001b[39;00m:\n\u001b[0;32m--> 729\u001b[0m         \u001b[38;5;28;01mraise\u001b[39;00m \u001b[38;5;167;01mValueError\u001b[39;00m(\u001b[38;5;124mf\u001b[39m\u001b[38;5;124m\"\u001b[39m\u001b[38;5;124mGot unknown tool \u001b[39m\u001b[38;5;132;01m{\u001b[39;00mname\u001b[38;5;132;01m}\u001b[39;00m\u001b[38;5;124m\"\u001b[39m)\n\u001b[1;32m    730\u001b[0m \u001b[38;5;28;01mif\u001b[39;00m callbacks \u001b[38;5;129;01mis\u001b[39;00m \u001b[38;5;129;01mnot\u001b[39;00m \u001b[38;5;28;01mNone\u001b[39;00m:\n\u001b[1;32m    731\u001b[0m     \u001b[38;5;28;01mfor\u001b[39;00m tool \u001b[38;5;129;01min\u001b[39;00m tools:\n",
      "\u001b[0;31mValueError\u001b[0m: Got unknown tool python_repl"
     ]
    }
   ],
   "source": [
    "from generative_ai_with_langchain.config import set_environment\n",
    "from langchain.agents import load_tools\n",
    "from langchain.agents import initialize_agent\n",
    "from langchain.agents import AgentType\n",
    "from langchain.llms import OpenAI\n",
    "\n",
    "set_environment()\n",
    "\n",
    "tools = load_tools([\"python_repl\"])\n",
    "llm = OpenAI(temperature=0., model=\"gpt-3.5-turbo-instruct\")\n",
    "\n",
    "agent = initialize_agent(\n",
    "    tools, llm, agent=AgentType.ZERO_SHOT_REACT_DESCRIPTION, verbose=True\n",
    ")\n",
    "\n",
    "agent.run(\"whats 4 + 4\")"
   ]
  },
  {
   "cell_type": "code",
   "execution_count": 4,
   "metadata": {},
   "outputs": [
    {
     "name": "stderr",
     "output_type": "stream",
     "text": [
      "/opt/homebrew/Caskroom/miniforge/base/envs/langchain/lib/python3.10/site-packages/langchain_core/_api/deprecation.py:139: LangChainDeprecationWarning: The class `HuggingFaceHub` was deprecated in LangChain 0.0.21 and will be removed in 0.3.0. An updated version of the class exists in the langchain-huggingface package and should be used instead. To use it run `pip install -U langchain-huggingface` and import as `from langchain_huggingface import HuggingFaceEndpoint`.\n",
      "  warn_deprecated(\n",
      "/opt/homebrew/Caskroom/miniforge/base/envs/langchain/lib/python3.10/site-packages/langchain_core/_api/deprecation.py:139: LangChainDeprecationWarning: The method `BaseLLM.__call__` was deprecated in langchain-core 0.1.7 and will be removed in 0.3.0. Use invoke instead.\n",
      "  warn_deprecated(\n"
     ]
    },
    {
     "name": "stdout",
     "output_type": "stream",
     "text": [
      "japan\n"
     ]
    }
   ],
   "source": [
    "# 허깅 페이스 api 사용 예제\n",
    "\n",
    "from generative_ai_with_langchain.config import set_environment\n",
    "set_environment()\n",
    "\n",
    "from langchain.llms import HuggingFaceHub\n",
    "llm = HuggingFaceHub(\n",
    "    model_kwargs={\"temperature\": 0.5, \"max_length\": 64},\n",
    "    repo_id=\"google/flan-t5-base\"\n",
    ")\n",
    "prompt = \"In which country is Tokyo?\"\n",
    "completion = llm(prompt)\n",
    "print(completion)"
   ]
  },
  {
   "cell_type": "code",
   "execution_count": 6,
   "metadata": {},
   "outputs": [
    {
     "name": "stderr",
     "output_type": "stream",
     "text": [
      "/opt/homebrew/Caskroom/miniforge/base/envs/langchain/lib/python3.10/site-packages/langchain_core/_api/deprecation.py:139: LangChainDeprecationWarning: The class `OpenAI` was deprecated in LangChain 0.0.10 and will be removed in 0.3.0. An updated version of the class exists in the langchain-openai package and should be used instead. To use it run `pip install -U langchain-openai` and import as `from langchain_openai import OpenAI`.\n",
      "  warn_deprecated(\n",
      "/opt/homebrew/Caskroom/miniforge/base/envs/langchain/lib/python3.10/site-packages/langchain_core/_api/deprecation.py:139: LangChainDeprecationWarning: The method `Chain.run` was deprecated in langchain 0.1.0 and will be removed in 0.3.0. Use invoke instead.\n",
      "  warn_deprecated(\n"
     ]
    },
    {
     "name": "stdout",
     "output_type": "stream",
     "text": [
      "\n",
      "\n",
      "\u001b[1m> Entering new LLMCheckerChain chain...\u001b[0m\n",
      "\n",
      "\n",
      "\u001b[1m> Entering new SequentialChain chain...\u001b[0m\n",
      "\n",
      "\u001b[1m> Finished chain.\u001b[0m\n",
      "\n",
      "\u001b[1m> Finished chain.\u001b[0m\n"
     ]
    },
    {
     "data": {
      "text/plain": [
       "' Based on the information provided, it appears that monotremes, specifically the duck-billed platypus, lay the biggest eggs among all mammals. The average length of the duck-billed platypus egg is 2.5 inches and the weight is 1.4 ounces, which is larger than the average length and weight of eggs laid by other egg-laying mammals such as marsupials and placental mammals. Therefore, the answer to the question would be that monotremes lay the biggest eggs.'"
      ]
     },
     "execution_count": 6,
     "metadata": {},
     "output_type": "execute_result"
    }
   ],
   "source": [
    "# open ai api 체커체인 사용 예제\n",
    "\n",
    "from generative_ai_with_langchain.config import set_environment\n",
    "# from langchain.agents import load_tools\n",
    "from langchain.chains import LLMCheckerChain\n",
    "from langchain.llms import OpenAI\n",
    "\n",
    "set_environment()\n",
    "\n",
    "# tools = load_tools([\"python_repl\"])\n",
    "llm = OpenAI(temperature=0.7, model=\"gpt-3.5-turbo-instruct\")\n",
    "\n",
    "text = \"What type of mammal lays the biggest eggs?\"\n",
    "\n",
    "checker_chain = LLMCheckerChain.from_llm(llm, verbose=True)\n",
    "\n",
    "checker_chain.run(text)"
   ]
  },
  {
   "cell_type": "code",
   "execution_count": 7,
   "metadata": {},
   "outputs": [
    {
     "name": "stdout",
     "output_type": "stream",
     "text": [
      "\n",
      "Russian President Vladimir Putin received a warm welcome in North Korea as he met with leader Kim Jong Un and discussed their countries' growing alliance and shared animosity towards the West and military cooperation.\n"
     ]
    }
   ],
   "source": [
    "from generative_ai_with_langchain.config import set_environment\n",
    "set_environment()\n",
    "\n",
    "from langchain import OpenAI\n",
    "\n",
    "prompt = \"\"\"\n",
    "Summarize this text in one sentence:\n",
    "\n",
    "{text}\n",
    "\"\"\"\n",
    "text = \"\"\"\n",
    "Thousands of North Koreans chanting “welcome Putin” lined Pyongyang’s wide boulevards waving Russian and North Korean flags and bouquets of flowers Wednesday as Russian President Vladimir Putin kicked off his first visit to North Korea in 24 years.\n",
    "Putin was met with exuberant fanfare for a welcome ceremony with his counterpart Kim Jong Un at Kim Il Sung Square in the heart of the North Korean capital, where mounted soldiers, military personnel and children holding balloons cheered against the backdrop of large portraits of the each leader.\n",
    "The two autocrats presented their respective officials and stood together as the Russian national anthem played before riding off standing shoulder to shoulder in an open-top limousine as they smiled and waved to the crowds.\n",
    "Putin landed in North Korea in the early hours of Wednesday local time, exactly 24 years to the day he was last in Pyongyang, for a visit heralding the countries’ deepening alignment in the face of shared animosity toward the West and international concerns over their growing military cooperation.\n",
    "Multiple governments have accused Pyongyang of supplying arms to Moscow for its grinding war in Ukraine, a charge both countries have denied, despite significant evidence of such transfers.\n",
    "In remarks ahead of talks between the two, Kim voiced his “full support and solidarity with the struggles of the Russian government, military and the people,” pointing specifically to Moscow’s war in Ukraine “to protect its own sovereignty, safety and territorial stability.”\n",
    "“Situations continue to be complicated and ever-changing, but I would like to take this opportunity to reiterate that we will continue to strengthen and closely engage in strategic communication with the (Russian) leadership,” Kim added.\n",
    "Putin hailed the countries’ ties as based on “equality and mutual respect,” and said an expected new bilateral agreement would “form the basis of relations between the two states for many years to come,” according to Russian state agency Tass. He also added that he hoped Kim would visit Moscow for their next meeting.\n",
    "The burgeoning relationship has sparked concern in both Seoul and Washington, not only over North Korea’s arms transfers to Russia, but also the prospect of Moscow transferring its superior military technology to aid Pyongyang’s’s heavily sanctioned weapons program.\n",
    "\"\"\"\n",
    "llm = OpenAI(temperature=0.7, model=\"gpt-3.5-turbo-instruct\")\n",
    "summary = llm(prompt.format(text=text))\n",
    "print(summary)"
   ]
  },
  {
   "cell_type": "code",
   "execution_count": 19,
   "metadata": {},
   "outputs": [
    {
     "name": "stdout",
     "output_type": "stream",
     "text": [
      "\n",
      "Russian President Vladimir Putin received a warm welcome from thousands of North Korean citizens as he arrived in Pyongyang for his first visit in 24 years. He was greeted by North Korean leader Kim Jong Un at a grand ceremony and the two leaders rode together in an open-top limousine, waving to the crowds. Putin's visit marks a deepening alliance between the two countries, who share hostility towards the West and have faced criticism for their military cooperation. While some governments have accused North Korea of supplying arms to Russia for its conflict in Ukraine, both countries deny these claims. During their meeting, Kim expressed support for Russia's actions in Ukraine and spoke of strengthening communication with the Russian leadership. Putin praised the two countries' relationship based on equality and mutual respect, and mentioned an upcoming bilateral agreement that will shape their ties for years to come. This growing relationship has raised concerns in Seoul and Washington, not only over arms transfers but also the possibility of Russia providing its advanced military technology to aid North Korea's heavily sanctioned weapons program.\n"
     ]
    }
   ],
   "source": [
    "# open ai api 활용 프롬프트 템플릿\n",
    "\n",
    "from langchain import PromptTemplate, OpenAI\n",
    "from langchain.schema import StrOutputParser\n",
    "\n",
    "llm = OpenAI(temperature=0.7, model=\"gpt-3.5-turbo-instruct\")\n",
    "\n",
    "prompt = PromptTemplate.from_template(\n",
    "    \"Summarize this text: {text}?\"\n",
    ")\n",
    "\n",
    "text = \"\"\"\n",
    "Thousands of North Koreans chanting “welcome Putin” lined Pyongyang’s wide boulevards waving Russian and North Korean flags and bouquets of flowers Wednesday as Russian President Vladimir Putin kicked off his first visit to North Korea in 24 years.\n",
    "Putin was met with exuberant fanfare for a welcome ceremony with his counterpart Kim Jong Un at Kim Il Sung Square in the heart of the North Korean capital, where mounted soldiers, military personnel and children holding balloons cheered against the backdrop of large portraits of the each leader.\n",
    "The two autocrats presented their respective officials and stood together as the Russian national anthem played before riding off standing shoulder to shoulder in an open-top limousine as they smiled and waved to the crowds.\n",
    "Putin landed in North Korea in the early hours of Wednesday local time, exactly 24 years to the day he was last in Pyongyang, for a visit heralding the countries’ deepening alignment in the face of shared animosity toward the West and international concerns over their growing military cooperation.\n",
    "Multiple governments have accused Pyongyang of supplying arms to Moscow for its grinding war in Ukraine, a charge both countries have denied, despite significant evidence of such transfers.\n",
    "In remarks ahead of talks between the two, Kim voiced his “full support and solidarity with the struggles of the Russian government, military and the people,” pointing specifically to Moscow’s war in Ukraine “to protect its own sovereignty, safety and territorial stability.”\n",
    "“Situations continue to be complicated and ever-changing, but I would like to take this opportunity to reiterate that we will continue to strengthen and closely engage in strategic communication with the (Russian) leadership,” Kim added.\n",
    "Putin hailed the countries’ ties as based on “equality and mutual respect,” and said an expected new bilateral agreement would “form the basis of relations between the two states for many years to come,” according to Russian state agency Tass. He also added that he hoped Kim would visit Moscow for their next meeting.\n",
    "The burgeoning relationship has sparked concern in both Seoul and Washington, not only over North Korea’s arms transfers to Russia, but also the prospect of Moscow transferring its superior military technology to aid Pyongyang’s’s heavily sanctioned weapons program.\n",
    "\"\"\"\n",
    "\n",
    "runnable = prompt | llm | StrOutputParser()\n",
    "summary = runnable.invoke({\"text\": text})\n",
    "print(summary)"
   ]
  },
  {
   "cell_type": "code",
   "execution_count": 8,
   "metadata": {},
   "outputs": [
    {
     "name": "stdout",
     "output_type": "stream",
     "text": [
      "\n",
      "[\n",
      "  {\n",
      "    \"Missing_Entities\": \"Vladimir Putin; welcome ceremony; Kim Jong Un\",\n",
      "    \"Denser_Summary\": \"Thousands of North Koreans welcomed Putin for his first visit to North Korea in 24 years. The two leaders held a welcome ceremony at Kim Il Sung Square, where they were greeted by cheering crowds and rode off together in an open-top limousine. Putin and Kim expressed solidarity and discussed strengthening strategic communication.\"\n",
      "  },\n",
      "  {\n",
      "    \"Missing_Entities\": \"Russian national anthem\",\n",
      "    \"Denser_Summary\": \"Kim and Putin stood together as the Russian national anthem played at the welcome ceremony in Pyongyang.\"\n",
      "  },\n",
      "  {\n",
      "    \"Missing_Entities\": \"sovereignty; safety; territorial stability\",\n",
      "    \"Denser_Summary\": \"Kim expressed support for Russia's efforts to protect its sovereignty, safety, and territorial stability in the face of complicated and ever-changing situations.\"\n",
      "  },\n",
      "  {\n",
      "    \"Missing_Entities\": \"Moscow; bilateral agreement\",\n",
      "    \"Denser_Summary\": \"Putin highlighted the strong ties between Russia and North Korea and emphasized the importance of a new bilateral agreement that will form the basis of their relationship for years to come.\"\n",
      "  },\n",
      "  {\n",
      "    \"Missing\n"
     ]
    }
   ],
   "source": [
    "# open ai api 활용 밀도 체인 활용\n",
    "\n",
    "from langchain import PromptTemplate, OpenAI\n",
    "from langchain.schema import StrOutputParser\n",
    "\n",
    "llm = OpenAI(temperature=0.7, model=\"gpt-3.5-turbo-instruct\")\n",
    "\n",
    "prompt = PromptTemplate.from_template(\n",
    "\"\"\"\n",
    "Article: {text}\n",
    "You will generate increasingly concise, entity-dense summaries of the above article. \n",
    "\n",
    "Repeat the following 2 steps 5 times. \n",
    "\n",
    "Step 1. Identify 1-3 informative entities (\";\" delimited) from the article which are missing from the previously generated summary. \n",
    "Step 2. Write a new, denser summary of identical length which covers every entity and detail from the previous summary plus the missing entities. \n",
    "\n",
    "A missing entity is:\n",
    "- relevant to the main story, \n",
    "- specific yet concise (5 words or fewer), \n",
    "- novel (not in the previous summary), \n",
    "- faithful (present in the article), \n",
    "- anywhere (can be located anywhere in the article).\n",
    "\n",
    "Guidelines:\n",
    "\n",
    "- The first summary should be long (4-5 sentences, ~80 words) yet highly non-specific, containing little information beyond the entities marked as missing. Use overly verbose language and fillers (e.g., \"this article discusses\") to reach ~80 words.\n",
    "- Make every word count: rewrite the previous summary to improve flow and make space for additional entities.\n",
    "- Make space with fusion, compression, and removal of uninformative phrases like \"the article discusses\".\n",
    "- The summaries should become highly dense and concise yet self-contained, i.e., easily understood without the article. \n",
    "- Missing entities can appear anywhere in the new summary.\n",
    "- Never drop entities from the previous summary. If space cannot be made, add fewer new entities. \n",
    "\n",
    "Remember, use the exact same number of words for each summary.\n",
    "Answer in JSON. The JSON should be a list (length 5) of dictionaries whose keys are \"Missing_Entities\" and \"Denser_Summary\".\n",
    "\"\"\"\n",
    ")\n",
    "\n",
    "text = \"\"\"\n",
    "Thousands of North Koreans chanting “welcome Putin” lined Pyongyang’s wide boulevards waving Russian and North Korean flags and bouquets of flowers Wednesday as Russian President Vladimir Putin kicked off his first visit to North Korea in 24 years.\n",
    "Putin was met with exuberant fanfare for a welcome ceremony with his counterpart Kim Jong Un at Kim Il Sung Square in the heart of the North Korean capital, where mounted soldiers, military personnel and children holding balloons cheered against the backdrop of large portraits of the each leader.\n",
    "The two autocrats presented their respective officials and stood together as the Russian national anthem played before riding off standing shoulder to shoulder in an open-top limousine as they smiled and waved to the crowds.\n",
    "Putin landed in North Korea in the early hours of Wednesday local time, exactly 24 years to the day he was last in Pyongyang, for a visit heralding the countries’ deepening alignment in the face of shared animosity toward the West and international concerns over their growing military cooperation.\n",
    "Multiple governments have accused Pyongyang of supplying arms to Moscow for its grinding war in Ukraine, a charge both countries have denied, despite significant evidence of such transfers.\n",
    "In remarks ahead of talks between the two, Kim voiced his “full support and solidarity with the struggles of the Russian government, military and the people,” pointing specifically to Moscow’s war in Ukraine “to protect its own sovereignty, safety and territorial stability.”\n",
    "“Situations continue to be complicated and ever-changing, but I would like to take this opportunity to reiterate that we will continue to strengthen and closely engage in strategic communication with the (Russian) leadership,” Kim added.\n",
    "Putin hailed the countries’ ties as based on “equality and mutual respect,” and said an expected new bilateral agreement would “form the basis of relations between the two states for many years to come,” according to Russian state agency Tass. He also added that he hoped Kim would visit Moscow for their next meeting.\n",
    "The burgeoning relationship has sparked concern in both Seoul and Washington, not only over North Korea’s arms transfers to Russia, but also the prospect of Moscow transferring its superior military technology to aid Pyongyang’s’s heavily sanctioned weapons program.\n",
    "\"\"\"\n",
    "\n",
    "runnable = prompt | llm | StrOutputParser()\n",
    "summary = runnable.invoke({\"text\": text})\n",
    "print(summary)"
   ]
  },
  {
   "cell_type": "code",
   "execution_count": 9,
   "metadata": {},
   "outputs": [
    {
     "name": "stderr",
     "output_type": "stream",
     "text": [
      "Ignoring wrong pointing object 7 0 (offset 0)\n",
      "Ignoring wrong pointing object 14 0 (offset 0)\n",
      "Ignoring wrong pointing object 22 0 (offset 0)\n",
      "Ignoring wrong pointing object 25 0 (offset 0)\n",
      "Ignoring wrong pointing object 32 0 (offset 0)\n",
      "Ignoring wrong pointing object 38 0 (offset 0)\n",
      "Ignoring wrong pointing object 40 0 (offset 0)\n"
     ]
    },
    {
     "data": {
      "text/plain": [
       "' This index provides instructions for installing and running a package, configuring it for specific environments, and adding new words to the dictionary. The process includes modifying files, setting permissions, and checking service status. The configuration file includes options for logging, response, and word handling. Changes to the dictionary are logged.'"
      ]
     },
     "execution_count": 9,
     "metadata": {},
     "output_type": "execute_result"
    }
   ],
   "source": [
    "# 맵 리듀스 파이프 라인\n",
    "from generative_ai_with_langchain.config import set_environment\n",
    "set_environment()\n",
    "\n",
    "from langchain.chains.summarize import load_summarize_chain\n",
    "from langchain import OpenAI\n",
    "from langchain.document_loaders import PyPDFLoader\n",
    "pdf_file_path = \"/Volumes/T7/project/CWP/산출물/sample.pdf\"\n",
    "pdf_loader = PyPDFLoader(pdf_file_path)\n",
    "docs = pdf_loader.load_and_split()\n",
    "llm = OpenAI(temperature=0.7, model=\"gpt-3.5-turbo-instruct\")\n",
    "chain = load_summarize_chain(llm, chain_type=\"map_reduce\")\n",
    "chain.run(docs)\n"
   ]
  },
  {
   "cell_type": "code",
   "execution_count": 10,
   "metadata": {},
   "outputs": [
    {
     "name": "stdout",
     "output_type": "stream",
     "text": [
      "\n",
      "\n",
      "Why did the light bulb go to therapy?\n",
      "\n",
      "Because it was feeling a little dim.\n",
      "Total Tokens: 25\n",
      "Prompt Tokens: 7\n",
      "Completion Tokens: 18\n",
      "Total Cost (USD): $4.6500000000000005e-05\n"
     ]
    }
   ],
   "source": [
    "# 토큰 사용량 모니터링\n",
    "\n",
    "from langchain import OpenAI, PromptTemplate\n",
    "from langchain.callbacks import get_openai_callback\n",
    "\n",
    "llm_chain = PromptTemplate.from_template(\"Tell me a joke about {topic}\") | OpenAI(temperature=0.7, model=\"gpt-3.5-turbo-instruct\")\n",
    "\n",
    "with get_openai_callback() as cb:\n",
    "    response =  llm_chain.invoke(dict(topic=\"light bulbs\"))\n",
    "    print(response)\n",
    "    print(f\"Total Tokens: {cb.total_tokens}\")\n",
    "    print(f\"Prompt Tokens: {cb.prompt_tokens}\")\n",
    "    print(f\"Completion Tokens: {cb.completion_tokens}\")\n",
    "    print(f\"Total Cost (USD): ${cb.total_cost}\")"
   ]
  },
  {
   "cell_type": "code",
   "execution_count": 1,
   "metadata": {},
   "outputs": [],
   "source": [
    "from generative_ai_with_langchain.config import set_environment\n",
    "set_environment()\n",
    "\n",
    "from typing import Optional\n",
    "from pydantic import BaseModel\n",
    "\n",
    "class Experience(BaseModel):\n",
    "    start_date: Optional[str]\n",
    "    end_date: Optional[str]\n",
    "    description: Optional[str]\n",
    "\n",
    "class Study(Experience):\n",
    "    degree: Optional[str]\n",
    "    uviversity: Optional[str]\n",
    "    country: Optional[str]\n",
    "    grade: Optional[str]\n",
    "\n",
    "class WorkExperience(Experience):\n",
    "    company: str\n",
    "    job_title: str\n",
    "\n",
    "class Resume(BaseModel):\n",
    "    first_name: str\n",
    "    last_name: str\n",
    "    linkedin_url: Optional[str]\n",
    "    email_address: Optional[str]\n",
    "    nationality: Optional[str]\n",
    "    skill: Optional[str]\n",
    "    study: Optional[str]\n",
    "    work_experience: Optional[WorkExperience]\n",
    "    hobby: Optional[str]\n",
    "\n"
   ]
  },
  {
   "cell_type": "code",
   "execution_count": 3,
   "metadata": {},
   "outputs": [],
   "source": [
    "# 문서에서 정보 추출\n",
    "# Deprecated\n",
    "\n",
    "# from langchain.chains import create_extraction_chain_pydantic\n",
    "# from langchain.chat_models import ChatOpenAI\n",
    "# from langchain.document_loaders import PyPDFLoader\n",
    "# pdf_file_path = \"/Users/user/Downloads/CV_sample.pdf\"\n",
    "# pdf_loader = PyPDFLoader(pdf_file_path)\n",
    "# docs = pdf_loader.load_and_split()\n",
    "# llm = ChatOpenAI(model_name=\"gpt-3.5-turbo-0613\")\n",
    "# chain = create_extraction_chain_pydantic(pydantic_schema=Resume, llm=llm)\n",
    "# chain.run(docs)"
   ]
  },
  {
   "cell_type": "code",
   "execution_count": 4,
   "metadata": {},
   "outputs": [],
   "source": [
    "from langchain.agents import(\n",
    "    AgentExecutor, AgentType, initialize_agent, load_tools\n",
    ")\n",
    "from langchain.chat_models import ChatOpenAI\n",
    "\n",
    "def load_agent() -> AgentExecutor:\n",
    "    llm = ChatOpenAI(temperature=0, streaming=True)\n",
    "    tools = load_tools(\n",
    "        tool_names=[\"ddg-search\", \"wolfram-alpha\", \"arxiv\", \"wifipedia\"],\n",
    "        llm = llm\n",
    "    )\n",
    "    return initialize_agent(\n",
    "        tools=tools, llm=llm, agent=AgentType.ZERO_SHOT_REACT_DESCRIPTION, verbose=True\n",
    "    )"
   ]
  },
  {
   "cell_type": "code",
   "execution_count": 5,
   "metadata": {},
   "outputs": [
    {
     "ename": "ValidationError",
     "evalue": "1 validation error for WolframAlphaAPIWrapper\n__root__\n  Did not find wolfram_alpha_appid, please add an environment variable `WOLFRAM_ALPHA_APPID` which contains it, or pass `wolfram_alpha_appid` as a named parameter. (type=value_error)",
     "output_type": "error",
     "traceback": [
      "\u001b[0;31m---------------------------------------------------------------------------\u001b[0m",
      "\u001b[0;31mValidationError\u001b[0m                           Traceback (most recent call last)",
      "Cell \u001b[0;32mIn[5], line 4\u001b[0m\n\u001b[1;32m      1\u001b[0m \u001b[38;5;28;01mimport\u001b[39;00m \u001b[38;5;21;01mstreamlit\u001b[39;00m \u001b[38;5;28;01mas\u001b[39;00m \u001b[38;5;21;01mst\u001b[39;00m\n\u001b[1;32m      2\u001b[0m \u001b[38;5;28;01mfrom\u001b[39;00m \u001b[38;5;21;01mlangchain\u001b[39;00m\u001b[38;5;21;01m.\u001b[39;00m\u001b[38;5;21;01mcallbacks\u001b[39;00m \u001b[38;5;28;01mimport\u001b[39;00m StreamlitCallbackHandler\n\u001b[0;32m----> 4\u001b[0m chain \u001b[38;5;241m=\u001b[39m \u001b[43mload_agent\u001b[49m\u001b[43m(\u001b[49m\u001b[43m)\u001b[49m\n\u001b[1;32m      5\u001b[0m st_callback \u001b[38;5;241m=\u001b[39m StreamlitCallbackHandler(st\u001b[38;5;241m.\u001b[39mcontainer())\n\u001b[1;32m      7\u001b[0m \u001b[38;5;28;01mif\u001b[39;00m prompt \u001b[38;5;241m:=\u001b[39m st\u001b[38;5;241m.\u001b[39mchat_input():\n",
      "Cell \u001b[0;32mIn[4], line 8\u001b[0m, in \u001b[0;36mload_agent\u001b[0;34m()\u001b[0m\n\u001b[1;32m      6\u001b[0m \u001b[38;5;28;01mdef\u001b[39;00m \u001b[38;5;21mload_agent\u001b[39m() \u001b[38;5;241m-\u001b[39m\u001b[38;5;241m>\u001b[39m AgentExecutor:\n\u001b[1;32m      7\u001b[0m     llm \u001b[38;5;241m=\u001b[39m ChatOpenAI(temperature\u001b[38;5;241m=\u001b[39m\u001b[38;5;241m0\u001b[39m, streaming\u001b[38;5;241m=\u001b[39m\u001b[38;5;28;01mTrue\u001b[39;00m)\n\u001b[0;32m----> 8\u001b[0m     tools \u001b[38;5;241m=\u001b[39m \u001b[43mload_tools\u001b[49m\u001b[43m(\u001b[49m\n\u001b[1;32m      9\u001b[0m \u001b[43m        \u001b[49m\u001b[43mtool_names\u001b[49m\u001b[38;5;241;43m=\u001b[39;49m\u001b[43m[\u001b[49m\u001b[38;5;124;43m\"\u001b[39;49m\u001b[38;5;124;43mddg-search\u001b[39;49m\u001b[38;5;124;43m\"\u001b[39;49m\u001b[43m,\u001b[49m\u001b[43m \u001b[49m\u001b[38;5;124;43m\"\u001b[39;49m\u001b[38;5;124;43mwolfram-alpha\u001b[39;49m\u001b[38;5;124;43m\"\u001b[39;49m\u001b[43m,\u001b[49m\u001b[43m \u001b[49m\u001b[38;5;124;43m\"\u001b[39;49m\u001b[38;5;124;43marxiv\u001b[39;49m\u001b[38;5;124;43m\"\u001b[39;49m\u001b[43m,\u001b[49m\u001b[43m \u001b[49m\u001b[38;5;124;43m\"\u001b[39;49m\u001b[38;5;124;43mwifipedia\u001b[39;49m\u001b[38;5;124;43m\"\u001b[39;49m\u001b[43m]\u001b[49m\u001b[43m,\u001b[49m\n\u001b[1;32m     10\u001b[0m \u001b[43m        \u001b[49m\u001b[43mllm\u001b[49m\u001b[43m \u001b[49m\u001b[38;5;241;43m=\u001b[39;49m\u001b[43m \u001b[49m\u001b[43mllm\u001b[49m\n\u001b[1;32m     11\u001b[0m \u001b[43m    \u001b[49m\u001b[43m)\u001b[49m\n\u001b[1;32m     12\u001b[0m     \u001b[38;5;28;01mreturn\u001b[39;00m initialize_agent(\n\u001b[1;32m     13\u001b[0m         tools\u001b[38;5;241m=\u001b[39mtools, llm\u001b[38;5;241m=\u001b[39mllm, agent\u001b[38;5;241m=\u001b[39mAgentType\u001b[38;5;241m.\u001b[39mZERO_SHOT_REACT_DESCRIPTION, verbose\u001b[38;5;241m=\u001b[39m\u001b[38;5;28;01mTrue\u001b[39;00m\n\u001b[1;32m     14\u001b[0m     )\n",
      "File \u001b[0;32m/opt/homebrew/Caskroom/miniforge/base/envs/langchain/lib/python3.10/site-packages/langchain_community/agent_toolkits/load_tools.py:726\u001b[0m, in \u001b[0;36mload_tools\u001b[0;34m(tool_names, llm, callbacks, allow_dangerous_tools, **kwargs)\u001b[0m\n\u001b[1;32m    724\u001b[0m     _get_tool_func, extra_keys \u001b[38;5;241m=\u001b[39m _EXTRA_OPTIONAL_TOOLS[name]\n\u001b[1;32m    725\u001b[0m     sub_kwargs \u001b[38;5;241m=\u001b[39m {k: kwargs[k] \u001b[38;5;28;01mfor\u001b[39;00m k \u001b[38;5;129;01min\u001b[39;00m extra_keys \u001b[38;5;28;01mif\u001b[39;00m k \u001b[38;5;129;01min\u001b[39;00m kwargs}\n\u001b[0;32m--> 726\u001b[0m     tool \u001b[38;5;241m=\u001b[39m \u001b[43m_get_tool_func\u001b[49m\u001b[43m(\u001b[49m\u001b[38;5;241;43m*\u001b[39;49m\u001b[38;5;241;43m*\u001b[39;49m\u001b[43msub_kwargs\u001b[49m\u001b[43m)\u001b[49m\n\u001b[1;32m    727\u001b[0m     tools\u001b[38;5;241m.\u001b[39mappend(tool)\n\u001b[1;32m    728\u001b[0m \u001b[38;5;28;01melse\u001b[39;00m:\n",
      "File \u001b[0;32m/opt/homebrew/Caskroom/miniforge/base/envs/langchain/lib/python3.10/site-packages/langchain_community/agent_toolkits/load_tools.py:309\u001b[0m, in \u001b[0;36m_get_wolfram_alpha\u001b[0;34m(**kwargs)\u001b[0m\n\u001b[1;32m    308\u001b[0m \u001b[38;5;28;01mdef\u001b[39;00m \u001b[38;5;21m_get_wolfram_alpha\u001b[39m(\u001b[38;5;241m*\u001b[39m\u001b[38;5;241m*\u001b[39mkwargs: Any) \u001b[38;5;241m-\u001b[39m\u001b[38;5;241m>\u001b[39m BaseTool:\n\u001b[0;32m--> 309\u001b[0m     \u001b[38;5;28;01mreturn\u001b[39;00m WolframAlphaQueryRun(api_wrapper\u001b[38;5;241m=\u001b[39m\u001b[43mWolframAlphaAPIWrapper\u001b[49m\u001b[43m(\u001b[49m\u001b[38;5;241;43m*\u001b[39;49m\u001b[38;5;241;43m*\u001b[39;49m\u001b[43mkwargs\u001b[49m\u001b[43m)\u001b[49m)\n",
      "File \u001b[0;32m/opt/homebrew/Caskroom/miniforge/base/envs/langchain/lib/python3.10/site-packages/pydantic/v1/main.py:341\u001b[0m, in \u001b[0;36mBaseModel.__init__\u001b[0;34m(__pydantic_self__, **data)\u001b[0m\n\u001b[1;32m    339\u001b[0m values, fields_set, validation_error \u001b[38;5;241m=\u001b[39m validate_model(__pydantic_self__\u001b[38;5;241m.\u001b[39m\u001b[38;5;18m__class__\u001b[39m, data)\n\u001b[1;32m    340\u001b[0m \u001b[38;5;28;01mif\u001b[39;00m validation_error:\n\u001b[0;32m--> 341\u001b[0m     \u001b[38;5;28;01mraise\u001b[39;00m validation_error\n\u001b[1;32m    342\u001b[0m \u001b[38;5;28;01mtry\u001b[39;00m:\n\u001b[1;32m    343\u001b[0m     object_setattr(__pydantic_self__, \u001b[38;5;124m'\u001b[39m\u001b[38;5;124m__dict__\u001b[39m\u001b[38;5;124m'\u001b[39m, values)\n",
      "\u001b[0;31mValidationError\u001b[0m: 1 validation error for WolframAlphaAPIWrapper\n__root__\n  Did not find wolfram_alpha_appid, please add an environment variable `WOLFRAM_ALPHA_APPID` which contains it, or pass `wolfram_alpha_appid` as a named parameter. (type=value_error)"
     ]
    }
   ],
   "source": [
    "import streamlit as st\n",
    "from langchain.callbacks import StreamlitCallbackHandler\n",
    "\n",
    "chain = load_agent()\n",
    "st_callback = StreamlitCallbackHandler(st.container())\n",
    "\n",
    "if prompt := st.chat_input():\n",
    "    st.chat_message(\"user\").write(prompt)\n",
    "    with st.chat_message(\"assistant\"):\n",
    "        st_callback = StreamlitCallbackHandler(st.container())\n",
    "        response = chain.run(prompt, callbacks=[st_callback])\n",
    "        st.write(response)"
   ]
  },
  {
   "cell_type": "code",
   "execution_count": 7,
   "metadata": {},
   "outputs": [
    {
     "name": "stdout",
     "output_type": "stream",
     "text": [
      "Python is the most popular programming language for several reasons:\n",
      "\n",
      "1. Easy to learn and use: Python has a simple and readable syntax that makes it easy for beginners to learn and use. This has made it a popular choice for people who are new to programming.\n",
      "\n",
      "2. Versatile: Python is a versatile language that can be used for a wide range of applications, including web development, data analysis, artificial intelligence, machine learning, and more. This versatility has contributed to its popularity among developers.\n",
      "\n",
      "3. Large community and support: Python has a large and active community of developers who contribute to its development and provide support through forums, tutorials, and documentation. This makes it easier for developers to find help and resources when they need it.\n",
      "\n",
      "4. Extensive libraries and frameworks: Python has a vast ecosystem of libraries and frameworks that make it easy to build complex applications quickly. These libraries and frameworks cover a wide range of functionalities, allowing developers to leverage existing code and tools to speed up their development process.\n",
      "\n",
      "5. Scalability: Python is a scalable language that can be used to build small scripts as well as large, complex applications. Its scalability has made it a popular choice for companies of all sizes, from startups to large enterprises.\n",
      "\n",
      "Overall, Python's ease of use, versatility, community support, extensive libraries, and scalability have all contributed to its popularity as the most popular programming language."
     ]
    }
   ],
   "source": [
    "from langchain.callbacks.streaming_stdout import StreamingStdOutCallbackHandler\n",
    "from langchain.chat_models import ChatOpenAI\n",
    "\n",
    "chatgpt = ChatOpenAI(model_name=\"gpt-3.5-turbo\", streaming=True, callbacks=[StreamingStdOutCallbackHandler()], temperature=0.5)\n",
    "answer = chatgpt.predict(\"why python is the most popular language?\")"
   ]
  },
  {
   "cell_type": "code",
   "execution_count": 12,
   "metadata": {},
   "outputs": [
    {
     "name": "stdout",
     "output_type": "stream",
     "text": [
      "[-0.018482164769769053, -0.0010866763391632417, 0.00611103817103863, -0.004031274793479565, -0.004221919777516833, 0.021518618984355625, -0.015764606569535773, -0.011944774123785532, -0.049720211091861685, -0.012256739235779043, 0.002691560564295669, 0.030281354553742583, 0.0073692949725523505, -0.0018475232004764187, 0.012305266728168016, 0.022544634677464155, 0.007182116371017514, 0.015307058980375345, 0.02108880059256957, -0.03238884992264365, 0.011494159299629969, 0.004679467832338533, 0.015750741039526044, 0.0016603444825262646, -0.0024142585788345765, 0.0025459769229755755, 0.009171756597480958, -0.028617544969282382, -0.027217171141781637, 0.003643052293230797, 0.010662253576077325, 0.019605237310300613, -0.004253116288716185, -0.02484624001592111, -0.03310983513140862, 0.0036153221645338785, 0.017164980397036518, -0.03762985262826415, 0.036964329539538106, -0.016388534930877715, 0.012617230908838985, 0.006533923332158546, -0.0063952726886739525, 0.0003106646655823406, -0.03416358188453661, 0.01146642917093305, 0.008180402866751669, -0.03263842201223846, 0.010059122578427438, -0.003930752960537917, 0.03316529352615737, 0.01978548174984677, -0.029283068058008427, 0.018981307086313588, 0.00048484485660198456, 0.008998443060294582, -0.0002465386265553985, 0.03139056156426441, -0.019050632873717156, 0.021033340335175735, 0.02531765313509127, 0.018010751650598893, 0.006083308042341712, 0.011306980232433862, -0.024721453971123707, -0.021754325543940703, -0.02043714117120817, 0.02875619468144443, 0.02260009493485799, 0.027217171141781637, 0.04165072967122023, 0.042676745364328764, -0.00036330866181592803, -0.011445630875918454, 0.010322559266709436, 0.003182038088737301, 0.0009254947332817667, 0.004530418041346642, 0.006367542094315763, 0.021213586637366975, 0.011709067564200452, -0.030309085613762044, -0.009948202063639763, 0.01826032187754862, 0.007445553059299512, 0.004582411916238046, -0.005091953845951151, 0.013261957565195522, -0.017456147214015436, -0.00862408585722491, 0.02201776130090016, 0.007327699779506972, 0.0222811989205047, 0.013352080716291143, 0.002209748530448848, -0.01197250425248245, -0.025373113392485106, 0.023376540401016797, 0.015501169881253775, -0.003837163426939863, -0.017775045091013814, 0.009996729556028736, -0.020367815383804604, -0.017470012744025168, -0.025899986769049102, -0.009254946983571714, 0.003584125653334527, -0.0070226678981795965, -0.01741455248663133, 0.014586073771610376, -0.005778276161014335, 0.012686556696242553, 0.010086852707124358, -0.01586166155431372, 0.0011560017773208562, -0.010287896373007652, 0.001543357798359333, -0.013442203867386763, -0.005171678315200745, -0.0200073246420672, 0.003452407309193528, 0.009941269298634899, 0.01429490695463146, -0.016333074673483876, 0.014378097340722215, -0.0004140029052033854, 0.008131875374362697, -0.012229009107082125, -0.01936953075071553, -0.01469699428639805, 0.01644399518827155, 0.02180978580133454, 0.005244470019445474, 0.0010034858366571682, -0.024000470625003822, 0.024971026060718517, -0.007715922046925104, -0.0018977841169472425, -0.04489515938537242, -0.020367815383804604, 0.006700304570001328, 0.021463158726961785, -0.015681415252122476, -0.0010164844217953372, -0.005133549504657799, 0.015695280782132205, 0.003227099664285111, 0.02666256670519818, 0.002719290692992588, -0.007112791049275217, 0.01343527203370444, -0.01644399518827155, -0.014655399559013944, 0.01606963891652442, 0.00605211153114236, 0.016943139367461172, 0.0001934613179570923, -0.007390092801905675, -0.03313756246613791, 0.002561575178575251, -0.004027808410977132, 0.014281042355944271, -0.0013024517814359225, 0.004214987012511968, 0.03169559577389815, 0.036576105875136156, 0.015154542806881022, -0.014794050202498538, 0.01179225888161375, -0.012069560168582936, -0.01996572805203801, 0.02370930194537982, -0.021490887924336163, 0.000256937424816743, 0.009691697209040088, 0.019937998854663633, 0.019314068630676612, -0.0010398816887795326, 0.007854573156070969, -0.016887679110067333, -0.02398660509499409, 0.01698473409484528, 0.008970712931597662, 0.025303787605081538, -0.009504519073166524, -0.020977880077781896, 0.003490536352567109, -0.005164746015857151, 0.012943060619519687, -0.0014766320306632255, 0.007272239522113135, 0.01826032187754862, -0.012721219589944337, 0.0038683599381392143, -0.633579112955408, -0.003701978933127067, 0.02881165493883827, -0.023390405931026526, 0.017054059882248847, 0.005788674842860362, 0.005147414569006259, -0.010974218688070837, -0.02308537358403788, 0.013372879011305738, -0.011459496405928185, 0.006454199328570222, -0.00452695165884421, -0.010100717305811545, -0.002370930194537982, -0.013650180298274925, -0.0008782667268775947, -0.022780341237049233, -0.002750487204191939, 0.013996807372647678, -0.005455912832836068, 0.0053519246173919875, 0.015944852871727016, 0.03618788221073421, -0.003521732630935825, 0.0031855042384090976, -0.005435115003482743, -0.02108880059256957, -0.00910243081007739, 0.016097368113898797, -0.03693659847951864, -0.005705484456769606, 0.006447266563565357, 0.01065532081107246, 0.044506935720970475, -0.023182428568815826, -0.011147532225257214, -0.009608506822949333, -0.00760500153213743, 0.0307804987329322, -0.0312241807920829, 0.01035722216041122, 0.004329374375463347, -0.0062115600039802776, -0.027619258473548226, 0.027744044518345633, 0.015778472099545506, -0.011494159299629969, 0.007410890165597728, -0.003760905573023337, 0.004544283105695102, 0.020506466958611736, 0.0028319443990314787, -0.0013821761342701993, 0.02237825390528264, 0.0067037704868424895, 0.03330394510096451, -0.001984440885540431, 0.042787665879116435, -0.0035806592708320945, 0.018759466056738238, 0.011480293769620238, -0.035161866517625685, -0.016152828371292633, -0.01949431493286785, 0.029310799118027888, -0.009927403768625168, 0.012021032676193965, 0.017470012744025168, -0.039654156679751924, 0.010856365408278298, 0.026482320403006937, -0.0035373308865355004, 0.009137093703779174, 0.00511968444030934, 0.015930987341717287, 0.019854807537250337, 0.0030399208299196393, -0.00033189558902166306, 0.03222246728781705, 0.0004083702082599091, -0.023224025158845016, -0.01916155338850483, 0.03405266136974894, 0.00645073294606779, 0.006481929457267141, -0.030114973781561073, 0.0030711173411189906, -0.010287896373007652, 0.007216778799058026, -0.0027054256286441285, 0.002045100716687917, -0.03812899680745377, -0.030170434038954908, 0.01310944232302374, 0.015445709623859938, -0.0003399113366240735, 0.006312081836921926, 0.025858392041664995, -0.007299969650810053, -0.005719349521118066, 0.006828556531639895, -0.0036950464009528373, 0.012291402129480827, 0.04023649031370975, -0.0019064498403726885, -0.005126616739652934, 0.008277458782852154, 0.008027886693257345, 0.009837280617529547, 0.004346705356652967, 0.009296542642278364, -0.014163189076151732, -0.0184960284371337, -0.006520058267810086, -0.0312241807920829, 0.02115812637997314, 0.009227216854874796, -0.005261801466296366, -0.0030815160229650173, 0.004239251224367725, 0.020561927216005575, 0.00834678363893318, -0.02046487223122763, 0.01698473409484528, 0.008852859651805123, -0.01189624663139656, -0.0034160114570711635, -0.003218433940859665, 0.0008470703320935613, -0.006079841659839279, -0.022724880979655398, 0.029061227028433077, -0.018066211907992732, 0.011313912997438726, 0.003046853362093869, 0.02858981390926292, 0.010378019524103273, 0.010253233479305868, -0.0035875918030063244, 0.014017605667662273, -0.007272239522113135, 0.008221997594135775, -0.01820486162015478, -0.02404206535238793, -0.020631253003409143, -0.021892975256102752, 0.004007011047285078, -0.008769669265714368, -0.022960587539240476, 0.010558265826294516, -0.016998599624855008, -0.007403957866254134, 0.011882382032709372, -0.013816562001778979, -0.01521000306427486, 0.019064498403726884, -0.0369920568742674, -0.00883206228811307, -0.028312512622293735, 0.00393421934304035, 0.02404206535238793, -0.005161279633354718, 0.008513165342437234, 0.009677832610352901, -0.007026133815020758, 0.005507906707727472, 0.031861974683434574, -0.005563366965121309, -0.010565197659976839, -0.0036846474862761752, -0.026537780660400773, 0.0257752007242517, 0.01637467126351307, 0.027633124003557958, 0.007750584940626888, -0.0352173286376646, 0.01454447904422627, 0.017359092229237493, -0.01846829923975932, 0.0003754406222246593, 0.011833853608997857, 0.001193264225068829, 0.009525316436858578, 0.018385107922346024, 0.01333128335259909, 0.002492249856832954, 0.018551488694527534, -0.021435427666942324, 0.0031439090453637196, -0.002578906625426143, -0.009192553961173012, -0.03760212156824469, 0.007535676210395133, 0.01177839335160402, -0.0016092169704298325, -0.0024853173246587247, 0.01691540830744171, 0.018385107922346024, 0.0008851993172594833, 0.0162221541586962, 0.010662253576077325, 0.007431687994951052, -0.001972309012443188, -0.012984656278226335, -0.027522201626125196, -0.020575792746015304, -0.008603287562210312, 0.03463499500370677, 0.02382022432281258, 0.014641534029004213, -0.01269348946124742, -0.008166537336741938, -0.0012357261301551327, 0.005840668717751767, 0.04517246253498669, -0.019438854675474015, -0.006603248653900842, -0.013740303449370545, 0.0028544751868053836, -0.012173548849688288, -0.013872022259172816, 0.024776914228517542, 0.001432437050741023, -0.016208288628686472, -0.0026499651384196557, 0.020589658276025036, 0.03890544041096749, 0.020353951716439958, -0.0048215848583255585, 0.017691853773600514, 0.01956364072027142, 0.025525628634656888, 0.01214581872099137, 0.037463469993437554, 0.01869014026933467, 0.03064184715812507, -0.0030659180001959773, 0.018593085284556728, -0.019508180462877583, -0.0024697190690590493, 0.01541797949516302, 0.02645459120563256, -0.0246798592437396, 0.029061227028433077, 0.020548061685995843, 0.03441315024884125, 0.04872192273348244, 0.011036610779146997, 0.008395312062644695, -0.016846084382683226, 0.02619115358602802, -0.018093941105367106, 0.002350132598015293, 0.008298256146544208, -0.006811225084789003, 0.000922028467194652, 0.0312241807920829, 0.0184960284371337, 0.02398660509499409, 0.006031313701789036, 0.012797477211030228, -4.77424857112393e-05, -0.0035875918030063244, 0.028700734424050595, -0.016970868564835546, -0.012998520876913524, -0.00023743964897289264, -0.002944598337901005, 0.005130083122155367, -0.02260009493485799, -0.02538697892249484, 0.001104874265224424, -0.018218727150164513, -0.013809629236774113, 0.0153902493664661, 0.038406296231777874, -0.019466585735493477, 0.011459496405928185, 0.026496185933016666, -0.005653490116216931, -0.024000470625003822, 0.018634680011940834, -0.0117506632229071, -0.00433630667480694, -0.007376227737557216, -0.037019787934286855, 0.004984499713665908, 0.008145739973049885, -0.006533923332158546, -0.008353716403938045, 0.03629880272552189, 0.01934179969069607, -0.022627825994877452, -0.01978548174984677, 0.016111233643908526, 0.017275900911824193, -0.01541797949516302, 0.021435427666942324, -0.003480137437890447, 0.013504596889785466, 0.015986447599111123, -0.014378097340722215, -0.0009679565801604118, 0.041207043886779364, -0.007265306757108269, -0.027924290820536872, -0.02692600432480272, -0.026274344903441316, -0.014835645861205187, 0.011743730457902236, -0.023639978020621337, -0.007598068767132564, 0.019217013645898666, 0.022877398084472263, 0.020076648566825686, -0.004870112816375801, 0.004083268668370969, 0.0352450559723939, 0.0017530671876680745, 0.01655491756570431, -0.0391550125005623, -0.01986867306726007, 0.012187413448375477, 0.0038267647450938363, 0.036243344330773135, -0.0031144457254155848, 0.006183829875283359, -0.02246144522269594, 0.02573360599686759, -0.028673005226676217, -0.013456069397396494, 0.01469699428639805, -0.02115812637997314, -0.044368287871453506, -0.04040286922324618, 0.02510967763552565, 0.004169925436964157, 0.01133471036113078, -0.007161318541664189, 0.012388457114258771, -0.025414708119869213, 0.0033154893912988805, -0.018371244254981378, -2.391186270658069e-05, -0.0036915800184504047, 0.005379654746088906, 0.027633124003557958, -0.0020970948244099573, -0.009719427337737008, 0.004977566948661044, -0.0045928110637453445, 0.0008046084852149163, -0.017067925412258576, 0.0014402361785408608, 0.025303787605081538, 0.021726594483921242, 0.029699020919784748, -0.0071197233486188114, 0.0489160364283285, 0.002903003144855627, -0.02595544702644294, 0.020381680913814332, 0.00560842854066912, -0.012014099911189098, 0.0011534021068593495, 0.008339850873928314, 0.005306863041844177, 0.005483642961532986, -0.008845926886800257, -0.03371989610009574, 0.013234227436498602, 0.004357104504160265, 0.008090279715656047, 0.015958718401736745, 0.0016586112912750483, -0.04289858639390411, 0.008180402866751669, 0.02908895808845254, 0.01343527203370444, -0.02858981390926292, -0.0025563758376522376, -0.029061227028433077, -0.040763361827628665, -0.009712495504054685, -0.019022901813697694, -0.003715843997475526, -0.024097525609781765, -0.019896404127279527, -0.01685994805004787, 0.0020710976541336193, -0.002901269953604411, -0.027827233973113846, 0.0013830426134804896, -0.006315548219424358, -0.001980974735868634, -0.034718184458474986, 0.0030832492142162334, 0.0014558344341405365, 0.01231219949317288, 0.009331205535980148, 0.005563366965121309, -0.01231219949317288, -0.013802696471769248, -0.014253312227247353, -0.015681415252122476, -0.009636236951646253, -0.024319366639357114, -0.022308928117879073, 0.005348458234889554, -0.007168251306669054, -0.006942943428930002, -0.014149323546142002, -0.015362519237769183, 0.007951629072171455, 0.016776758595279658, 0.01114059946025235, -0.03452407076362893, 0.020603521943389682, -0.00998979679102387, -0.010599860553678623, 0.02029849145904612, 0.001249591194503592, -0.01918928444852429, -0.009982864026019006, 0.0030017917865460585, 0.005102352993458448, 0.007750584940626888, 0.018551488694527534, -0.002604903562871845, 0.005809472672213687, -0.0016213488435270755, -0.009518383671853712, -0.019522045992887312, 0.008721140842002853, -0.014627669430317026, 0.01644399518827155, -0.005528704537080797, 0.012388457114258771, -0.009816483253837494, -0.000125327405128945, 0.012686556696242553, 0.007265306757108269, 0.0049567695849689905, -0.0007430821166494809, -0.016346940203493608, -0.00032691280969356345, -0.006176897110278494, -0.007632731660834348, 0.033553517190559316, 0.008658748750926693, 0.007050398026876515, -0.025220598150313325, -0.0070226678981795965, -0.013566989912184168, 0.023196294098825555, 0.0031889706209115303, -0.012804409976035092, -0.028867115196232106, 0.002422924302260022, -0.02076990457821628, -0.001861388264824878, -0.0008817330511723684, -0.003005258169048491, -0.01606963891652442, -0.024541207668932464, -0.0003199802775193338, -0.01798302059057943, -0.027993614745295357, -0.011591214284407913, -0.02820159210750606, 0.006818157849793868, 0.03238884992264365, 0.019064498403726884, 0.011175262353954133, 0.0030537858942680986, 0.0013440470908966183, -0.0400146492841344, 0.008679546114618747, -0.008783533864401555, -0.01426717682593454, 0.016901544640077065, 0.03449634342889964, 0.02395887403497463, 0.05030254472581951, -0.01907836207109153, 0.003688113868778608, 0.037186170569113455, -0.007223711564062892, 0.012991589043231201, -0.01741455248663133, -0.0007261840840267109, -0.0012773213232005107, -0.0045720132343920195, 0.015917121811707555, 0.0008349383425810005, 0.00627395302637898, -0.011840786374002722, 0.020423277503843523, 0.029837672494591884, -0.004852781369524909, 0.02706465403696477, -0.024763048698507813, -0.046753080802033595, -0.013622450169578006, 0.010280963608002788, -0.021601808439123838, 0.013428339268699576, -0.016638107020472522, -0.01780277428838819, -0.003785169319217823, -0.005022628524208854, 0.026094098601250077, 0.016402400460887444, 0.002852742228384803, -0.007785247834328672, -0.0020676315044618225, 0.0024159917700857926, -0.01220821081206753, -0.008429974025023936, 0.0022010830398540376, -0.004790388347126208, -0.005854533782100226, 0.008873657015497177, 0.0007751451652667814, 0.018634680011940834, 0.011251519975040024, 0.023681572748005444, 0.0030035249777972746, -0.021435427666942324, -0.025331518665101, -0.02795202001791125, -0.009816483253837494, -0.008748870970699771, 0.005005297077357962, -0.016430131520906905, -0.04348092002786194, -0.015237733192971777, -0.0038094332982429443, 0.03183424362341511, -0.024887834743305217, 0.023598381430592147, -0.011369373254832563, -0.016624241490462793, 0.0041421953082672386, 0.013088644028009145, 0.05127310202417929, -0.003208035026183003, 0.002823278908436668, 0.013553125313496981, -0.006558187078353032, -0.012492445795364123, 0.003906488748682159, 0.011688270200508399, -0.0037193101471473234, 0.04007010767888316, 0.009435193285762956, -0.030087244584186695, -0.006135301917233116, 0.02372316747538955, 0.004117931562072753, -0.02093628535039779, -0.054545262798350945, 0.020145974354229254, -0.016749027535260197, -0.017234306184440086, -0.009636236951646253, -0.0056812202449138495, -0.03896090253100641, 0.00045494823884104557, -0.009310407240965551, 0.01869014026933467, 0.007033066580025623, 0.0025390443908013456, -0.027591527413528764, 0.030114973781561073, -0.010842499878268567, 0.004731461707229937, 0.010676119106087055, 0.0015234266810469346, -0.03424677133930482, 0.005937724633852253, -0.011078206437853648, -0.0017686654432677502, -0.0025217131767810894, 0.017483878274034897, -0.03510640812287693, 0.0036187883142056758, 0.020977880077781896, -0.007833775792378915, 0.016194424961321827, 0.009532249201863442, -0.006069442977993252, 0.023626112490611608, -0.07187662024227881, -0.014378097340722215, 0.014516748915529351, -0.00933813736966247, 0.004998364778014368, 0.003251363410479597, -0.007854573156070969, -0.026468454872997205, 0.0036014568673547838, -0.006714169634349788, 0.018551488694527534, 0.003646518442902594, 0.010336423865396625, 0.008194267465438857, -0.00905390331768842, -0.003778236787043593, -0.0016074837791786162, 0.016901544640077065, 0.0012270604067296867, -0.022641691524887184, -0.017691853773600514, 0.02426390638196328, 0.007771382769980213, 0.0489160364283285, -0.0200073246420672, -0.04827824067433174, 0.008450772320038533, 0.0343576918540925, -0.0163053454761095, -0.022031626830909888, 0.006367542094315763, -0.005143948186503826, -0.0073692949725523505, -0.003166439833137625, -0.01959137178029088, -0.016527186505684847, 0.0012773213232005107, -0.015196137534265129, -0.008762736500709502, 0.00978182036013571, -0.007771382769980213, 0.017705719303610246, -0.0011525355112337412, -0.008291323381539343, 0.027397417443972876, 0.004779989665280181, -0.001037282018318026, -0.0096154395879542, -0.034940025488050336, -0.007494081017349755, -0.0016118166408913392, -0.00018598717806877227, 0.0036187883142056758, -0.01210422306228472, 0.037518932113476476, -0.010946487628051376, 0.0020243031201652283, 0.013338216117603954, -0.024582804258961654, -0.014724725346417512, -0.016111233643908526, -0.007819910262369185, 0.007410890165597728, -0.0005117084769847834, -0.035161866517625685, 0.011917043995088613, -0.013012386406923255, 0.0312241807920829, 0.0005957655751164651, -0.009712495504054685, -0.006897881853382191, 0.01742841801664106, 0.006038246466793901, -0.007064263091224974, -0.011840786374002722, -0.01563982052473837, -0.03313756246613791, -0.013116374156706063, -0.02506808104549646, -0.01580620129691988, -0.0006273952677133027, 0.034940025488050336, 0.002809413844088209, -0.014433557598116053, -0.019535911522897045, -0.00905390331768842, -0.04758498652558624, -0.018842657374151535, -0.01023936888061868, -0.010814769749571648, 0.033997199249710015, 0.010891027370657539, -0.003227099664285111, 0.05052438575539486, -0.0022964055318726723, 0.008208132995448588, -0.015445709623859938, 0.0065269910328149515, -0.027924290820536872, -0.012471647500349528, -0.01501589216339643, 0.017109520139642682, -0.013504596889785466, -0.009719427337737008, 0.014794050202498538, 0.006870151724685272, -0.01561209039604145, 0.04389687475228335, 0.0017816640284059192, -0.020506466958611736, -0.0012617231840161528, 0.014114660652440218, 0.017996886120589164, 0.0014722991689505025, -0.0014393695829152528, -0.021019474805166003, 0.012055695569895749, 0.000782077697441011, -0.028894846256251567, -0.014114660652440218, 0.009324272770975282, 0.0010892761260400663, 0.010163110328210248, -0.01210422306228472, -0.024943295000699056, -0.006402204988017546, -0.0020000391411401064, -0.006298216772573466, 0.047058115011667324, 0.011064340907843917, -0.01781663981839792, 0.03771304208303236, 0.01853762502716289, 0.00037197435613754454, -0.002805947461585776, 0.024152985867175604, -0.03790715577787842, -0.002682894840870223, 0.025913852299058834, -0.0277301789883359, -0.03427450239932429, -0.01469699428639805, 3.9970453576616464e-05, -0.009906606404933115, -0.0010260166244310735, 0.0034558734588653254, 0.00297406165784914, -0.03973734613452014, 0.01798302059057943, 0.014336502613338109, -0.04850008170390709, -0.011785326116608884, 0.0036049232498572164, -0.014683129687710864, -0.01892584682891975, 0.004190723266317482, -0.02395887403497463, -0.012839072869736876, 0.0046552036204827755, 0.0031855042384090976, 0.005892663058304442, -0.022738746509665127, 0.008339850873928314, 0.01893971235892948, 0.010828634348258837, 0.012956926149529417, 0.16105688549491687, -0.013123306921710928, -0.0015624222036308057, 0.014066133160051246, -0.010114582835821275, 0.018648545541950563, 0.007667394554536132, 0.01561209039604145, -0.025664280209464024, 0.006059043830485954, 0.02340427146103626, -0.0041768582019690225, -0.0184960284371337, -0.012825207339727146, 0.023875684580206415, -0.009754090231438792, -0.050274813665800056, -0.03369216876536645, -0.01276974708233331, -0.024069794549762304, 0.004097133732719429, -0.015279328851678427, -0.010773174090865, 0.001274721652739004, 0.01099501605176289, -0.012034897274881152, -0.003774770637371796, -0.008249727722832695, 0.004877045115719396, 0.033442596675771645, -0.01057906318998657, -0.007091993219921893, 0.006669108058801977, 0.015723011842151666, -0.041290237066837744, 0.002783416673811871, 0.029477179890209402, -0.0015572228627077924, 0.03374762716011521, 0.017234306184440086, 0.01874560052672851, -0.01917541891851456, -0.004100600115221861, -0.004201121948163509, -0.02465212818372014, 0.005258335083793934, -0.016818353322663765, 0.0017781977623188042, -0.02043714117120817, 0.0033050907094528538, -0.007979359200868372, 0.0026464989887478585, 0.013393676374997792, 0.03510640812287693, 0.009393597627056308, -0.011092071967863376, -0.0014593007002276512, -0.018426704512375214, -0.020340086186430226, -0.005719349521118066, -0.031640133653859225, 0.022489174420070316, -0.0026412994149942097, -0.007764450004975347, 0.0038406298094422957, 0.0034558734588653254, -0.016568781233068954, 0.014558343642913458, -0.004984499713665908, 0.0031005806610671254, -0.0058129385890548484, -0.018870386571525913, -0.030087244584186695, 0.01734522669922776, -0.029310799118027888, -0.0313073721094962, 0.034718184458474986, 0.01742841801664106, 0.0030711173411189906, 0.02071444432082244, -0.00412833024391878, -0.013206497307801685, 0.006884016789033732, -0.009046970552683553, -0.04048606240330457, -0.022738746509665127, 0.002395194173563104, -0.01649945544566539, -0.005851067865259065, -0.004201121948163509, 0.009400530392061172, -0.005050358652905772, -0.012492445795364123, 0.007854573156070969, -0.00032496302774360396, 0.012229009107082125, -0.0006646577154612754, 0.02201776130090016, -0.01429490695463146, -0.029255338860634052, -0.022586231267493345, 0.04145661597637417, 0.026329805160835155, 0.0026880941817932365, -0.011958639653795261, 0.0021092266975072005, -0.0002881338778084353, 0.0048042534114746665, 0.004416031144056535, -0.025497899437282513, 0.011397103383529481, -0.03779623526309075, -0.0011767994902588629, -0.0010745444660659987, -0.03907182304579409, 0.00393421934304035, 0.006994937769482678, -0.026052502011220884, 0.029504910950228863, 0.008339850873928314, -0.025692011269483485, -0.015320923579062534, 0.02196230104350632, 0.01783050534840765, -0.02685667853739915, -0.019244744705918127, -0.019535911522897045, -0.010170043093215113, -0.031972895198222245, -0.008443839555033666, 0.008741939137017448, -0.04184483964077612, 0.012610299075156662, -0.0036915800184504047, -0.009005375825299446, 0.017511607471409275, -0.022142547345697563, -0.00017818806482084918, -0.011133666695247483, 0.014738589945104701, 0.003260029133905043, -0.024790779758527275, 0.012471647500349528, -0.005060757800413071, 0.010863297241960621, -0.013365946246300872, 0.00033341207315881847, 0.01197250425248245, -0.009608506822949333, -0.009358935664677066, -0.01014924572952306, -0.02330721461361323, 0.0053172617236902035, -0.003611855782031446, 0.008686478879623611, -0.001811127348354054, -0.01157041692071586, -0.049110146397884386, -0.009809550488832629, 0.007313834715158513, -0.044174174176607454, -0.0025477101142267916, 0.017553204061438465, -0.017109520139642682, 0.002367464044866185, -0.009289609877273498, -0.17780590930488688, 0.010870230006965485, 0.020631253003409143, -0.04827824067433174, 9.645986239745832e-05, 0.019092227601101262, 0.03557781751675692, -0.014558343642913458, -0.01387895409285514, -0.006197694939631819, 0.005216739890748555, -0.0011031411903885254, -0.03873906150143106, -0.011861583737694775, -0.01062759068237554, 0.008180402866751669, -0.011078206437853648, -0.01167440560182121, 0.029366259375421727, 0.0023016048727956856, 0.01830191846757781, -0.042038949610332006, 0.01041961425148738, 0.009137093703779174, -0.007625799361490754, 0.013352080716291143, 0.005147414569006259, 0.02692600432480272, 0.022988318599259937, -0.015126812678184103, -0.008277458782852154, -0.017262035381814464, 0.020506466958611736, -0.014710859816407781, -0.007299969650810053, 0.018010751650598893, 0.020340086186430226, 0.005743613267312551, -0.02596931255645267, 0.00958770945925728, 0.03629880272552189, 0.022003897633535514, -0.0003550762653071156, 0.004641338556134317, -0.009123229105091986, 0.013310485988907036, 0.015279328851678427, -0.020631253003409143, 0.024388692426760682, -0.0033952138605484747, 0.00880433215941615, -0.01867627473932494, 0.02250303995008005, -0.0012504577901292, -0.003117911875087382, -0.010703849234783975, -0.01936953075071553, -0.010391884122790462, -0.003681181336604378, -0.007771382769980213, -0.007778315069323806, -0.03258295989219954, 0.032305656742585266, -0.029699020919784748, -0.014322637083328378, -0.01191011216140629, -0.02692600432480272, 0.030004053266773398, -0.0036395859107283646, 0.016402400460887444, -0.00583027003590574, -0.005029561289213719, -0.012083425698592666, 0.01586166155431372, 0.005747079649814984, 0.013005453641918388, -0.019036767343707423, 0.0013275823560866522, -0.010974218688070837, -0.004762658218429289, -0.011514956663322022, 0.04012556979892208, 0.0026412994149942097, 0.03688113635947972, 0.0011213391164497078, 0.032416577257372944, 0.019937998854663633, 0.011826920843992991, -0.00782684302737405, -0.008312120745231397, 0.03266614934696775, -0.02555335969467635, -0.006180363492780927, 0.0002292072524640802, 0.024776914228517542, 0.00461707480993983, -0.003975814536085727, 0.015334789109072265, -0.010079919942119491, -0.006630978782597761, 0.0029601965935006805, -0.002571974093251913, -0.014586073771610376, 0.029504910950228863, -0.0001062087503193835, -0.009379733028369119, 0.008575557433513395, -0.002648232179999075, 0.04115158549203061, -0.0026378332653224125, -0.021532484514365353, -0.004863180051370936, 0.019244744705918127, 0.008235863124145506, 0.014724725346417512, 0.023917279307590522, -0.00881819675810334, -0.020173705414248715, 0.021074935062559842, 0.018648545541950563, -0.004301643781105156, -0.018288052937568078, -0.004942904520620531, 0.02621888464604748, -0.006367542094315763, -0.023432000658410633, -0.09383892687372038, -0.02778563924572974, 0.023016047796634312, 0.022724880979655398, -0.0019428456924950532, 0.040208759253690295, -0.00250784811243263, 0.02574747152687732, -0.018606950814566457, 0.03857267886660447, -0.00451308659449575, -0.03169559577389815, 0.009885809041241062, 0.0002967995721300518, -0.0074663504229915655, -0.024277771911973008, -0.0025667747523288997, 0.011383238784842294, -0.009144026468784039, 0.05118990884412091, 0.005258335083793934, -0.01892584682891975, 0.03710297738905507, -0.011341643126135646, -0.005636158669366039, 0.016388534930877715, -0.028783925741463892, -0.011258452740044889, 0.022821937827078424, -0.017331361169218032, 0.007230644329067757, -0.012423120007960555, -0.008284390616534477, -0.0066275128657565996, -0.013407540973684979, -0.015279328851678427, -0.00904003871900123, -0.017553204061438465, 0.013157969815412712, -0.021477024256971518, 0.01253404052274823, -0.005906528122652902, -0.01429490695463146, -0.020825364835610115, 0.0017955290927543785, -0.022392119435292374, 0.0011828654268074843, 0.037019787934286855, 0.0013908417412803274, -0.03457953288366785, -0.022627825994877452, 0.008055616821954263, -0.022877398084472263, 0.0010745444660659987, 0.030392275068530258, 0.02731422612655958, 0.019896404127279527, -0.011202992482651051, -0.01342140650369471, 0.006007049955594549, -0.04317588954351838, -0.011064340907843917, -0.036132423815985464, -0.006041712849296333, -0.0030919149376416794, 0.0014393695829152528, -0.038822250956199275, -0.01604190785650496, 0.003350152285000664, 0.016083504446534152, 0.013102509558018874, 0.012748949718641257, -0.02022916567164255, 0.021074935062559842, -0.029893132751985723, 0.003961949471737268, 0.004949836819964125, -0.04672534974201414, 0.0048077197939771, -0.011501092064634833, -0.0052375377201018805, -0.013428339268699576, -0.014225582098550434, 0.00793083077715686, 0.005466311514682094, -0.00702960019752319, -0.0018093941571028379, -0.013650180298274925, -0.0013821761342701993, -0.03690886741949918, -0.0051508804858474205, 0.016596512293088415, 0.019854807537250337, -0.007785247834328672, -0.0026170356687997237, 0.022170278405717024, 0.008963780166592798, -0.00313697651318949, -0.0005329393713202765, -0.0134976641247806, -0.03857267886660447, -0.01781663981839792, -0.021837514998708916, 0.0362710753907926, 0.0008137074482455074, -0.009352002899672201, -0.015265463321668697, -0.005781742077855497, 0.0050884879291099895, 0.0007201180892704304, -0.017650259046216407, 0.01773344850098462, 0.019730021492452933, 0.0033449527112470153, -0.009580776694252415, -0.005428182704139149, -0.03133510316951566, 0.0008384046086681153, 0.0021525550818037946, 0.010142312964518195, 0.030059513524167233, 0.029504910950228863, -0.0036673160394252832, -0.01134857589114051, 0.018232592680174242, 0.018579219754546995, -0.010516670167587868, 0.015598225797354263, -0.03749120105345702, 0.011376306019837428, -0.0007036532962528055, -0.008859792416809988, 0.012915330490822767, -0.027522201626125196, -5.370014146240395e-05, -0.010274030842997921, 0.001066745338266161, 0.018052346377983, 0.005445513685328769, 0.024069794549762304, 0.022794206767058962, -0.0071197233486188114, -0.016568781233068954, -0.015625954994728637, 0.02462439898634576, -0.013844292130475897, 0.004169925436964157, 0.027688584260951794, -0.03532824915245228, -0.022392119435292374, 0.002405593088239766, 0.02570587493684813, 0.022808072297068695, 0.005258335083793934, 0.0011430033085980049, -0.011438699042236131, -0.008728073607007718, -0.01669356727786636, -0.013608585570890818, 0.010821702514576514, 0.011577349685720724, -0.010267099009315599, 0.04863873327871423, -0.004225386160019266, 0.022586231267493345, 0.0002211915048616698, 0.003785169319217823, 0.011459496405928185, -0.0018163266892770673, 0.01478018560381135, -0.0006663908485048328, -0.01939725994808991, 0.0012305266728168016, -0.004357104504160265, 0.01964683203768472, 0.02487397107594057, 0.030114973781561073, 0.020145974354229254, 0.02154634818173, 0.01826032187754862, -0.009996729556028736, 0.01734522669922776, 0.013872022259172816, -0.008922185439208691, -0.004436828507748588, -0.015334789109072265, 0.029033497831058703, 0.012797477211030228, 0.021005611137801358, 0.03277706986175543, 0.012998520876913524, -8.71984108680763e-06, 0.002114426038430214, -0.0066899054224940305, -0.003140442662861287, -0.018593085284556728, -0.018842657374151535, -0.010835567113263701, -0.011480293769620238, 0.0004909108222544355, 0.013310485988907036, 0.019438854675474015, 0.001878719595260452, -0.0002651698213255554, -0.024568938728951925, -0.029893132751985723, -0.005965454762549172, -0.011057409074161594, -0.017539338531428736, -0.018704005799344402, 0.02635753435820953, 0.001274721652739004, -0.005566833347623742, -0.006582451290208789, 0.002142156399957768, 0.011695202965513263, -0.008658748750926693, 0.01644399518827155, -0.031418292624283875, -0.008027886693257345, -0.044479208386241184, 0.06045178859269749, 0.008970712931597662, -0.013317418753911901, 0.03280480092177489, 0.027577661883519036, 0.030752767672912743, 0.015681415252122476, -0.0043259079929609135, -0.004346705356652967, 0.06028540968316106, 0.02070057879081271, 0.016028044189140313, 0.00335881800842611, -0.008901387144194094, -0.002053766440113363, -0.010211638751921761, -0.021241317697386436, -0.003608389399529013, 0.01157041692071586, 0.005684686627416282, 0.09383892687372038, 0.020506466958611736, -0.006045178766137495, 0.013518462419795197, -0.029588100404997077, 0.02443028715414479, 0.022780341237049233, 0.02418071506454998, -0.028312512622293735, -0.036104692755966, -0.00030698175058882374, -0.01450288338551962, 0.009878876276236197, -0.05507213431226986, -0.006786961338594517, -0.009968999427331817, -0.029033497831058703, 0.023418135128400904, -0.0025043817299301974, 0.004270447735567076, 0.025054217378131814, 0.017677988243590785, 0.014904970717286211, -0.013060913899312226, 0.007923898943474537, 0.014710859816407781, 0.047806827555161586, -0.008187335631756535, -0.019133824191130452, -0.02370930194537982, 0.0020243031201652283, 0.02558109075469581, -0.04123477494679882, -0.030697307415518904, 0.0027158243104901552, 0.004866646433873369, -0.009033105953996366, -0.016596512293088415, 0.00725144169275981, -0.011889313866391695, -0.00685282027783438, 0.030974610565133176, -0.02132450715215465, 0.0020156373967397823, 0.008658748750926693, -0.023626112490611608, 0.0012738550571133958, -0.007833775792378915, -0.01540411396515329]\n",
      "1536\n"
     ]
    }
   ],
   "source": [
    "from langchain.embeddings.openai import OpenAIEmbeddings\n",
    "\n",
    "embeddings = OpenAIEmbeddings()\n",
    "text = \"this is sample query. if text is getting longer, then what will happen? --> same embedding length : 1536\"\n",
    "query_result = embeddings.embed_query(text)\n",
    "print(query_result)\n",
    "print(len(query_result))"
   ]
  },
  {
   "cell_type": "code",
   "execution_count": 15,
   "metadata": {},
   "outputs": [],
   "source": [
    "from langchain.embeddings import OpenAIEmbeddings\n",
    "\n",
    "embeddings = OpenAIEmbeddings()\n",
    "words = [\"Cat\", \"Dog\", \"Computer\", \"Langchain\", \"Animal\", \"Digital\"]\n",
    "doc_vectors = embeddings.embed_documents(words)\n"
   ]
  },
  {
   "cell_type": "code",
   "execution_count": 16,
   "metadata": {},
   "outputs": [
    {
     "data": {
      "text/html": [
       "<style type=\"text/css\">\n",
       "#T_d88b3_row0_col0, #T_d88b3_row1_col1, #T_d88b3_row2_col2, #T_d88b3_row3_col3, #T_d88b3_row4_col4, #T_d88b3_row5_col5 {\n",
       "  background-color: #3b4cc0;\n",
       "  color: #f1f1f1;\n",
       "}\n",
       "#T_d88b3_row0_col1 {\n",
       "  background-color: #f6a283;\n",
       "  color: #000000;\n",
       "}\n",
       "#T_d88b3_row0_col2 {\n",
       "  background-color: #e9785d;\n",
       "  color: #f1f1f1;\n",
       "}\n",
       "#T_d88b3_row0_col3, #T_d88b3_row3_col0, #T_d88b3_row3_col1, #T_d88b3_row3_col2, #T_d88b3_row3_col4, #T_d88b3_row3_col5, #T_d88b3_row4_col3 {\n",
       "  background-color: #b40426;\n",
       "  color: #f1f1f1;\n",
       "}\n",
       "#T_d88b3_row0_col4 {\n",
       "  background-color: #f7b79b;\n",
       "  color: #000000;\n",
       "}\n",
       "#T_d88b3_row0_col5, #T_d88b3_row2_col3 {\n",
       "  background-color: #c53334;\n",
       "  color: #f1f1f1;\n",
       "}\n",
       "#T_d88b3_row1_col0 {\n",
       "  background-color: #f7a889;\n",
       "  color: #000000;\n",
       "}\n",
       "#T_d88b3_row1_col2 {\n",
       "  background-color: #d65244;\n",
       "  color: #f1f1f1;\n",
       "}\n",
       "#T_d88b3_row1_col3, #T_d88b3_row5_col3 {\n",
       "  background-color: #bd1f2d;\n",
       "  color: #f1f1f1;\n",
       "}\n",
       "#T_d88b3_row1_col4 {\n",
       "  background-color: #f7b99e;\n",
       "  color: #000000;\n",
       "}\n",
       "#T_d88b3_row1_col5, #T_d88b3_row5_col1 {\n",
       "  background-color: #d75445;\n",
       "  color: #f1f1f1;\n",
       "}\n",
       "#T_d88b3_row2_col0, #T_d88b3_row5_col2 {\n",
       "  background-color: #f08a6c;\n",
       "  color: #f1f1f1;\n",
       "}\n",
       "#T_d88b3_row2_col1 {\n",
       "  background-color: #dc5d4a;\n",
       "  color: #f1f1f1;\n",
       "}\n",
       "#T_d88b3_row2_col4 {\n",
       "  background-color: #de614d;\n",
       "  color: #f1f1f1;\n",
       "}\n",
       "#T_d88b3_row2_col5 {\n",
       "  background-color: #f29072;\n",
       "  color: #f1f1f1;\n",
       "}\n",
       "#T_d88b3_row4_col0 {\n",
       "  background-color: #f7b599;\n",
       "  color: #000000;\n",
       "}\n",
       "#T_d88b3_row4_col1 {\n",
       "  background-color: #f7b396;\n",
       "  color: #000000;\n",
       "}\n",
       "#T_d88b3_row4_col2 {\n",
       "  background-color: #d1493f;\n",
       "  color: #f1f1f1;\n",
       "}\n",
       "#T_d88b3_row4_col5 {\n",
       "  background-color: #c73635;\n",
       "  color: #f1f1f1;\n",
       "}\n",
       "#T_d88b3_row5_col0 {\n",
       "  background-color: #cd423b;\n",
       "  color: #f1f1f1;\n",
       "}\n",
       "#T_d88b3_row5_col4 {\n",
       "  background-color: #cf453c;\n",
       "  color: #f1f1f1;\n",
       "}\n",
       "</style>\n",
       "<table id=\"T_d88b3\">\n",
       "  <thead>\n",
       "    <tr>\n",
       "      <th class=\"blank level0\" >&nbsp;</th>\n",
       "      <th id=\"T_d88b3_level0_col0\" class=\"col_heading level0 col0\" >Cat</th>\n",
       "      <th id=\"T_d88b3_level0_col1\" class=\"col_heading level0 col1\" >Dog</th>\n",
       "      <th id=\"T_d88b3_level0_col2\" class=\"col_heading level0 col2\" >Computer</th>\n",
       "      <th id=\"T_d88b3_level0_col3\" class=\"col_heading level0 col3\" >Langchain</th>\n",
       "      <th id=\"T_d88b3_level0_col4\" class=\"col_heading level0 col4\" >Animal</th>\n",
       "      <th id=\"T_d88b3_level0_col5\" class=\"col_heading level0 col5\" >Digital</th>\n",
       "    </tr>\n",
       "  </thead>\n",
       "  <tbody>\n",
       "    <tr>\n",
       "      <th id=\"T_d88b3_level0_row0\" class=\"row_heading level0 row0\" >Cat</th>\n",
       "      <td id=\"T_d88b3_row0_col0\" class=\"data row0 col0\" >0.000000</td>\n",
       "      <td id=\"T_d88b3_row0_col1\" class=\"data row0 col1\" >0.492832</td>\n",
       "      <td id=\"T_d88b3_row0_col2\" class=\"data row0 col2\" >0.546596</td>\n",
       "      <td id=\"T_d88b3_row0_col3\" class=\"data row0 col3\" >0.693121</td>\n",
       "      <td id=\"T_d88b3_row0_col4\" class=\"data row0 col4\" >0.467111</td>\n",
       "      <td id=\"T_d88b3_row0_col5\" class=\"data row0 col5\" >0.642491</td>\n",
       "    </tr>\n",
       "    <tr>\n",
       "      <th id=\"T_d88b3_level0_row1\" class=\"row_heading level0 row1\" >Dog</th>\n",
       "      <td id=\"T_d88b3_row1_col0\" class=\"data row1 col0\" >0.492832</td>\n",
       "      <td id=\"T_d88b3_row1_col1\" class=\"data row1 col1\" >0.000000</td>\n",
       "      <td id=\"T_d88b3_row1_col2\" class=\"data row1 col2\" >0.596428</td>\n",
       "      <td id=\"T_d88b3_row1_col3\" class=\"data row1 col3\" >0.677394</td>\n",
       "      <td id=\"T_d88b3_row1_col4\" class=\"data row1 col4\" >0.461311</td>\n",
       "      <td id=\"T_d88b3_row1_col5\" class=\"data row1 col5\" >0.607521</td>\n",
       "    </tr>\n",
       "    <tr>\n",
       "      <th id=\"T_d88b3_level0_row2\" class=\"row_heading level0 row2\" >Computer</th>\n",
       "      <td id=\"T_d88b3_row2_col0\" class=\"data row2 col0\" >0.546596</td>\n",
       "      <td id=\"T_d88b3_row2_col1\" class=\"data row2 col1\" >0.596428</td>\n",
       "      <td id=\"T_d88b3_row2_col2\" class=\"data row2 col2\" >0.000000</td>\n",
       "      <td id=\"T_d88b3_row2_col3\" class=\"data row2 col3\" >0.662079</td>\n",
       "      <td id=\"T_d88b3_row2_col4\" class=\"data row2 col4\" >0.606003</td>\n",
       "      <td id=\"T_d88b3_row2_col5\" class=\"data row2 col5\" >0.521919</td>\n",
       "    </tr>\n",
       "    <tr>\n",
       "      <th id=\"T_d88b3_level0_row3\" class=\"row_heading level0 row3\" >Langchain</th>\n",
       "      <td id=\"T_d88b3_row3_col0\" class=\"data row3 col0\" >0.693121</td>\n",
       "      <td id=\"T_d88b3_row3_col1\" class=\"data row3 col1\" >0.677394</td>\n",
       "      <td id=\"T_d88b3_row3_col2\" class=\"data row3 col2\" >0.662079</td>\n",
       "      <td id=\"T_d88b3_row3_col3\" class=\"data row3 col3\" >0.000000</td>\n",
       "      <td id=\"T_d88b3_row3_col4\" class=\"data row3 col4\" >0.695426</td>\n",
       "      <td id=\"T_d88b3_row3_col5\" class=\"data row3 col5\" >0.676659</td>\n",
       "    </tr>\n",
       "    <tr>\n",
       "      <th id=\"T_d88b3_level0_row4\" class=\"row_heading level0 row4\" >Animal</th>\n",
       "      <td id=\"T_d88b3_row4_col0\" class=\"data row4 col0\" >0.467111</td>\n",
       "      <td id=\"T_d88b3_row4_col1\" class=\"data row4 col1\" >0.461311</td>\n",
       "      <td id=\"T_d88b3_row4_col2\" class=\"data row4 col2\" >0.606003</td>\n",
       "      <td id=\"T_d88b3_row4_col3\" class=\"data row4 col3\" >0.695426</td>\n",
       "      <td id=\"T_d88b3_row4_col4\" class=\"data row4 col4\" >0.000000</td>\n",
       "      <td id=\"T_d88b3_row4_col5\" class=\"data row4 col5\" >0.642176</td>\n",
       "    </tr>\n",
       "    <tr>\n",
       "      <th id=\"T_d88b3_level0_row5\" class=\"row_heading level0 row5\" >Digital</th>\n",
       "      <td id=\"T_d88b3_row5_col0\" class=\"data row5 col0\" >0.642491</td>\n",
       "      <td id=\"T_d88b3_row5_col1\" class=\"data row5 col1\" >0.607521</td>\n",
       "      <td id=\"T_d88b3_row5_col2\" class=\"data row5 col2\" >0.521919</td>\n",
       "      <td id=\"T_d88b3_row5_col3\" class=\"data row5 col3\" >0.676659</td>\n",
       "      <td id=\"T_d88b3_row5_col4\" class=\"data row5 col4\" >0.642176</td>\n",
       "      <td id=\"T_d88b3_row5_col5\" class=\"data row5 col5\" >0.000000</td>\n",
       "    </tr>\n",
       "  </tbody>\n",
       "</table>\n"
      ],
      "text/plain": [
       "<pandas.io.formats.style.Styler at 0x137526fb0>"
      ]
     },
     "execution_count": 16,
     "metadata": {},
     "output_type": "execute_result"
    }
   ],
   "source": [
    "from scipy.spatial.distance import pdist, squareform\n",
    "import numpy as np\n",
    "import pandas as pd\n",
    "x = np.array(doc_vectors)\n",
    "dists = squareform(pdist(x))\n",
    "\n",
    "df = pd.DataFrame(\n",
    "    data=dists,\n",
    "    index=words,\n",
    "    columns=words\n",
    ")\n",
    "\n",
    "df.style.background_gradient(cmap='coolwarm')"
   ]
  },
  {
   "cell_type": "code",
   "execution_count": null,
   "metadata": {},
   "outputs": [],
   "source": []
  }
 ],
 "metadata": {
  "kernelspec": {
   "display_name": "langchain",
   "language": "python",
   "name": "python3"
  },
  "language_info": {
   "codemirror_mode": {
    "name": "ipython",
    "version": 3
   },
   "file_extension": ".py",
   "mimetype": "text/x-python",
   "name": "python",
   "nbconvert_exporter": "python",
   "pygments_lexer": "ipython3",
   "version": "3.10.14"
  }
 },
 "nbformat": 4,
 "nbformat_minor": 2
}
